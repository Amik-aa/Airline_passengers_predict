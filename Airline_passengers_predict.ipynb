{
 "cells": [
  {
   "cell_type": "markdown",
   "id": "5e49c5dc",
   "metadata": {},
   "source": [
    "Importing the necessary libraries."
   ]
  },
  {
   "cell_type": "code",
   "execution_count": 1,
   "id": "1d42337b",
   "metadata": {},
   "outputs": [],
   "source": [
    "import numpy as np\n",
    "import pandas as pd"
   ]
  },
  {
   "cell_type": "code",
   "execution_count": 2,
   "id": "f164a2cc",
   "metadata": {},
   "outputs": [],
   "source": [
    "from sklearn.preprocessing import MinMaxScaler"
   ]
  },
  {
   "cell_type": "code",
   "execution_count": 3,
   "id": "a1ff3821",
   "metadata": {},
   "outputs": [],
   "source": [
    "from tensorflow.keras.models import Sequential"
   ]
  },
  {
   "cell_type": "code",
   "execution_count": 4,
   "id": "cb147074",
   "metadata": {},
   "outputs": [],
   "source": [
    "from tensorflow.keras.layers import LSTM, Dense"
   ]
  },
  {
   "cell_type": "code",
   "execution_count": 5,
   "id": "f3b1e3cd",
   "metadata": {},
   "outputs": [],
   "source": [
    "from sklearn.model_selection import train_test_split"
   ]
  },
  {
   "cell_type": "code",
   "execution_count": 7,
   "id": "f79b5fd1",
   "metadata": {},
   "outputs": [],
   "source": [
    "data = pd.read_csv('AirLine_data.csv')\n",
    "passengers = data['#Passengers'].values"
   ]
  },
  {
   "cell_type": "code",
   "execution_count": 9,
   "id": "a6489df0",
   "metadata": {},
   "outputs": [
    {
     "data": {
      "text/html": [
       "<div>\n",
       "<style scoped>\n",
       "    .dataframe tbody tr th:only-of-type {\n",
       "        vertical-align: middle;\n",
       "    }\n",
       "\n",
       "    .dataframe tbody tr th {\n",
       "        vertical-align: top;\n",
       "    }\n",
       "\n",
       "    .dataframe thead th {\n",
       "        text-align: right;\n",
       "    }\n",
       "</style>\n",
       "<table border=\"1\" class=\"dataframe\">\n",
       "  <thead>\n",
       "    <tr style=\"text-align: right;\">\n",
       "      <th></th>\n",
       "      <th>Month</th>\n",
       "      <th>#Passengers</th>\n",
       "    </tr>\n",
       "  </thead>\n",
       "  <tbody>\n",
       "    <tr>\n",
       "      <th>0</th>\n",
       "      <td>1949-01</td>\n",
       "      <td>112</td>\n",
       "    </tr>\n",
       "    <tr>\n",
       "      <th>1</th>\n",
       "      <td>1949-02</td>\n",
       "      <td>118</td>\n",
       "    </tr>\n",
       "    <tr>\n",
       "      <th>2</th>\n",
       "      <td>1949-03</td>\n",
       "      <td>132</td>\n",
       "    </tr>\n",
       "    <tr>\n",
       "      <th>3</th>\n",
       "      <td>1949-04</td>\n",
       "      <td>129</td>\n",
       "    </tr>\n",
       "    <tr>\n",
       "      <th>4</th>\n",
       "      <td>1949-05</td>\n",
       "      <td>121</td>\n",
       "    </tr>\n",
       "  </tbody>\n",
       "</table>\n",
       "</div>"
      ],
      "text/plain": [
       "     Month  #Passengers\n",
       "0  1949-01          112\n",
       "1  1949-02          118\n",
       "2  1949-03          132\n",
       "3  1949-04          129\n",
       "4  1949-05          121"
      ]
     },
     "execution_count": 9,
     "metadata": {},
     "output_type": "execute_result"
    }
   ],
   "source": [
    "data.head()"
   ]
  },
  {
   "cell_type": "code",
   "execution_count": 10,
   "id": "673ffee8",
   "metadata": {},
   "outputs": [],
   "source": [
    "def create_dataset(data, look_back=1):\n",
    "    X, Y = [], []\n",
    "    for i in range(len(data) - look_back):\n",
    "        X.append(data[i:i+look_back])\n",
    "        Y.append(data[i+look_back])\n",
    "    return np.array(X), np.array(Y)"
   ]
  },
  {
   "cell_type": "markdown",
   "id": "eca2b019",
   "metadata": {},
   "source": [
    " Defining the look-back period (timesteps for prediction)"
   ]
  },
  {
   "cell_type": "code",
   "execution_count": 11,
   "id": "0bbb57ac",
   "metadata": {},
   "outputs": [],
   "source": [
    "look_back = 1"
   ]
  },
  {
   "cell_type": "code",
   "execution_count": 12,
   "id": "c0645eca",
   "metadata": {},
   "outputs": [],
   "source": [
    "X, Y = create_dataset(passengers, look_back)"
   ]
  },
  {
   "cell_type": "code",
   "execution_count": 13,
   "id": "5b39541a",
   "metadata": {},
   "outputs": [],
   "source": [
    "scaler = MinMaxScaler()\n",
    "X = scaler.fit_transform(X)\n",
    "Y = scaler.fit_transform(Y.reshape(-1, 1))"
   ]
  },
  {
   "cell_type": "code",
   "execution_count": 14,
   "id": "3a9148ec",
   "metadata": {},
   "outputs": [],
   "source": [
    "X_train, X_test, Y_train, Y_test = train_test_split(X, Y, test_size=0.2, random_state=42)"
   ]
  },
  {
   "cell_type": "markdown",
   "id": "99b8ac96",
   "metadata": {},
   "source": [
    "Creating the LSTM model with Adam optimizer and 100 epochsmodel_adam = Sequential()"
   ]
  },
  {
   "cell_type": "code",
   "execution_count": 15,
   "id": "de9113e7",
   "metadata": {
    "scrolled": true
   },
   "outputs": [
    {
     "name": "stdout",
     "output_type": "stream",
     "text": [
      "Epoch 1/100\n",
      "114/114 [==============================] - 9s 5ms/step - loss: 0.1399\n",
      "Epoch 2/100\n",
      "114/114 [==============================] - 1s 4ms/step - loss: 0.0658\n",
      "Epoch 3/100\n",
      "114/114 [==============================] - 0s 4ms/step - loss: 0.0419\n",
      "Epoch 4/100\n",
      "114/114 [==============================] - 0s 4ms/step - loss: 0.0352\n",
      "Epoch 5/100\n",
      "114/114 [==============================] - 0s 4ms/step - loss: 0.0307\n",
      "Epoch 6/100\n",
      "114/114 [==============================] - 0s 4ms/step - loss: 0.0266\n",
      "Epoch 7/100\n",
      "114/114 [==============================] - 0s 4ms/step - loss: 0.0226\n",
      "Epoch 8/100\n",
      "114/114 [==============================] - 0s 4ms/step - loss: 0.0193\n",
      "Epoch 9/100\n",
      "114/114 [==============================] - 0s 4ms/step - loss: 0.0160\n",
      "Epoch 10/100\n",
      "114/114 [==============================] - 0s 4ms/step - loss: 0.0132\n",
      "Epoch 11/100\n",
      "114/114 [==============================] - 0s 4ms/step - loss: 0.0109\n",
      "Epoch 12/100\n",
      "114/114 [==============================] - 0s 4ms/step - loss: 0.0090\n",
      "Epoch 13/100\n",
      "114/114 [==============================] - 0s 4ms/step - loss: 0.0076\n",
      "Epoch 14/100\n",
      "114/114 [==============================] - 0s 4ms/step - loss: 0.0066\n",
      "Epoch 15/100\n",
      "114/114 [==============================] - 0s 4ms/step - loss: 0.0058\n",
      "Epoch 16/100\n",
      "114/114 [==============================] - 1s 4ms/step - loss: 0.0052\n",
      "Epoch 17/100\n",
      "114/114 [==============================] - 0s 4ms/step - loss: 0.0049\n",
      "Epoch 18/100\n",
      "114/114 [==============================] - 0s 4ms/step - loss: 0.0047\n",
      "Epoch 19/100\n",
      "114/114 [==============================] - 0s 4ms/step - loss: 0.0047\n",
      "Epoch 20/100\n",
      "114/114 [==============================] - 0s 4ms/step - loss: 0.0046\n",
      "Epoch 21/100\n",
      "114/114 [==============================] - 0s 4ms/step - loss: 0.0047\n",
      "Epoch 22/100\n",
      "114/114 [==============================] - 0s 4ms/step - loss: 0.0045\n",
      "Epoch 23/100\n",
      "114/114 [==============================] - 0s 4ms/step - loss: 0.0045\n",
      "Epoch 24/100\n",
      "114/114 [==============================] - 0s 4ms/step - loss: 0.0045\n",
      "Epoch 25/100\n",
      "114/114 [==============================] - 0s 4ms/step - loss: 0.0045\n",
      "Epoch 26/100\n",
      "114/114 [==============================] - 0s 4ms/step - loss: 0.0045\n",
      "Epoch 27/100\n",
      "114/114 [==============================] - 1s 5ms/step - loss: 0.0044\n",
      "Epoch 28/100\n",
      "114/114 [==============================] - 0s 4ms/step - loss: 0.0045\n",
      "Epoch 29/100\n",
      "114/114 [==============================] - 0s 4ms/step - loss: 0.0044\n",
      "Epoch 30/100\n",
      "114/114 [==============================] - 0s 4ms/step - loss: 0.0045\n",
      "Epoch 31/100\n",
      "114/114 [==============================] - 0s 4ms/step - loss: 0.0044\n",
      "Epoch 32/100\n",
      "114/114 [==============================] - 0s 4ms/step - loss: 0.0045\n",
      "Epoch 33/100\n",
      "114/114 [==============================] - 1s 4ms/step - loss: 0.0043\n",
      "Epoch 34/100\n",
      "114/114 [==============================] - 0s 4ms/step - loss: 0.0044\n",
      "Epoch 35/100\n",
      "114/114 [==============================] - 1s 5ms/step - loss: 0.0044\n",
      "Epoch 36/100\n",
      "114/114 [==============================] - 1s 5ms/step - loss: 0.0046\n",
      "Epoch 37/100\n",
      "114/114 [==============================] - 1s 5ms/step - loss: 0.0044\n",
      "Epoch 38/100\n",
      "114/114 [==============================] - 1s 5ms/step - loss: 0.0044\n",
      "Epoch 39/100\n",
      "114/114 [==============================] - 0s 4ms/step - loss: 0.0046\n",
      "Epoch 40/100\n",
      "114/114 [==============================] - 1s 5ms/step - loss: 0.0045\n",
      "Epoch 41/100\n",
      "114/114 [==============================] - 1s 5ms/step - loss: 0.0045\n",
      "Epoch 42/100\n",
      "114/114 [==============================] - 1s 5ms/step - loss: 0.0045\n",
      "Epoch 43/100\n",
      "114/114 [==============================] - 1s 5ms/step - loss: 0.0043\n",
      "Epoch 44/100\n",
      "114/114 [==============================] - 1s 5ms/step - loss: 0.0043\n",
      "Epoch 45/100\n",
      "114/114 [==============================] - 0s 4ms/step - loss: 0.0045\n",
      "Epoch 46/100\n",
      "114/114 [==============================] - 0s 4ms/step - loss: 0.0044\n",
      "Epoch 47/100\n",
      "114/114 [==============================] - 0s 4ms/step - loss: 0.0044\n",
      "Epoch 48/100\n",
      "114/114 [==============================] - 0s 4ms/step - loss: 0.0043\n",
      "Epoch 49/100\n",
      "114/114 [==============================] - 0s 4ms/step - loss: 0.0044\n",
      "Epoch 50/100\n",
      "114/114 [==============================] - 0s 4ms/step - loss: 0.0044\n",
      "Epoch 51/100\n",
      "114/114 [==============================] - 1s 4ms/step - loss: 0.0043\n",
      "Epoch 52/100\n",
      "114/114 [==============================] - 1s 4ms/step - loss: 0.0044\n",
      "Epoch 53/100\n",
      "114/114 [==============================] - 1s 4ms/step - loss: 0.0043\n",
      "Epoch 54/100\n",
      "114/114 [==============================] - 0s 4ms/step - loss: 0.0044\n",
      "Epoch 55/100\n",
      "114/114 [==============================] - 0s 4ms/step - loss: 0.0043\n",
      "Epoch 56/100\n",
      "114/114 [==============================] - 0s 4ms/step - loss: 0.0046\n",
      "Epoch 57/100\n",
      "114/114 [==============================] - 0s 4ms/step - loss: 0.0043\n",
      "Epoch 58/100\n",
      "114/114 [==============================] - 0s 4ms/step - loss: 0.0043\n",
      "Epoch 59/100\n",
      "114/114 [==============================] - 0s 4ms/step - loss: 0.0043\n",
      "Epoch 60/100\n",
      "114/114 [==============================] - 0s 4ms/step - loss: 0.0043\n",
      "Epoch 61/100\n",
      "114/114 [==============================] - 0s 4ms/step - loss: 0.0043\n",
      "Epoch 62/100\n",
      "114/114 [==============================] - 0s 4ms/step - loss: 0.0043\n",
      "Epoch 63/100\n",
      "114/114 [==============================] - 0s 4ms/step - loss: 0.0044\n",
      "Epoch 64/100\n",
      "114/114 [==============================] - 0s 4ms/step - loss: 0.0042\n",
      "Epoch 65/100\n",
      "114/114 [==============================] - 0s 4ms/step - loss: 0.0043\n",
      "Epoch 66/100\n",
      "114/114 [==============================] - 0s 4ms/step - loss: 0.0040\n",
      "Epoch 67/100\n",
      "114/114 [==============================] - 0s 4ms/step - loss: 0.0043\n",
      "Epoch 68/100\n",
      "114/114 [==============================] - 1s 4ms/step - loss: 0.0042\n",
      "Epoch 69/100\n",
      "114/114 [==============================] - 0s 4ms/step - loss: 0.0044\n",
      "Epoch 70/100\n",
      "114/114 [==============================] - 0s 4ms/step - loss: 0.0043\n",
      "Epoch 71/100\n",
      "114/114 [==============================] - 0s 4ms/step - loss: 0.0043\n",
      "Epoch 72/100\n",
      "114/114 [==============================] - 0s 4ms/step - loss: 0.0043\n",
      "Epoch 73/100\n",
      "114/114 [==============================] - 0s 4ms/step - loss: 0.0042\n",
      "Epoch 74/100\n",
      "114/114 [==============================] - 0s 4ms/step - loss: 0.0043\n",
      "Epoch 75/100\n",
      "114/114 [==============================] - 0s 4ms/step - loss: 0.0042\n",
      "Epoch 76/100\n",
      "114/114 [==============================] - 0s 4ms/step - loss: 0.0043\n",
      "Epoch 77/100\n",
      "114/114 [==============================] - 0s 4ms/step - loss: 0.0044\n",
      "Epoch 78/100\n",
      "114/114 [==============================] - 0s 4ms/step - loss: 0.0042\n",
      "Epoch 79/100\n",
      "114/114 [==============================] - 0s 4ms/step - loss: 0.0042\n",
      "Epoch 80/100\n",
      "114/114 [==============================] - 0s 4ms/step - loss: 0.0042\n",
      "Epoch 81/100\n",
      "114/114 [==============================] - 0s 4ms/step - loss: 0.0042\n",
      "Epoch 82/100\n",
      "114/114 [==============================] - 0s 4ms/step - loss: 0.0042\n",
      "Epoch 83/100\n",
      "114/114 [==============================] - 0s 4ms/step - loss: 0.0042\n",
      "Epoch 84/100\n",
      "114/114 [==============================] - 0s 4ms/step - loss: 0.0042\n",
      "Epoch 85/100\n",
      "114/114 [==============================] - 0s 4ms/step - loss: 0.0043\n",
      "Epoch 86/100\n",
      "114/114 [==============================] - 0s 4ms/step - loss: 0.0045\n",
      "Epoch 87/100\n",
      "114/114 [==============================] - 0s 4ms/step - loss: 0.0042\n",
      "Epoch 88/100\n",
      "114/114 [==============================] - 0s 4ms/step - loss: 0.0042\n",
      "Epoch 89/100\n",
      "114/114 [==============================] - 0s 4ms/step - loss: 0.0041\n",
      "Epoch 90/100\n",
      "114/114 [==============================] - 0s 4ms/step - loss: 0.0042\n",
      "Epoch 91/100\n",
      "114/114 [==============================] - 0s 4ms/step - loss: 0.0042\n",
      "Epoch 92/100\n",
      "114/114 [==============================] - 0s 4ms/step - loss: 0.0042\n",
      "Epoch 93/100\n",
      "114/114 [==============================] - 0s 4ms/step - loss: 0.0042\n",
      "Epoch 94/100\n",
      "114/114 [==============================] - 0s 4ms/step - loss: 0.0041\n",
      "Epoch 95/100\n",
      "114/114 [==============================] - 0s 4ms/step - loss: 0.0042\n",
      "Epoch 96/100\n",
      "114/114 [==============================] - 0s 4ms/step - loss: 0.0042\n",
      "Epoch 97/100\n",
      "114/114 [==============================] - 0s 4ms/step - loss: 0.0042\n",
      "Epoch 98/100\n",
      "114/114 [==============================] - 0s 4ms/step - loss: 0.0042\n",
      "Epoch 99/100\n",
      "114/114 [==============================] - 0s 4ms/step - loss: 0.0042\n",
      "Epoch 100/100\n",
      "114/114 [==============================] - 0s 4ms/step - loss: 0.0042\n"
     ]
    },
    {
     "data": {
      "text/plain": [
       "<keras.callbacks.History at 0x272b5449700>"
      ]
     },
     "execution_count": 15,
     "metadata": {},
     "output_type": "execute_result"
    }
   ],
   "source": [
    "model_adam.add(LSTM(4, input_shape=(look_back, 1)))\n",
    "model_adam.add(Dense(1))\n",
    "model_adam.compile(optimizer='adam', loss='mean_squared_error')\n",
    "model_adam.fit(X_train, Y_train, epochs=100, batch_size=1)"
   ]
  },
  {
   "cell_type": "markdown",
   "id": "9f388dea",
   "metadata": {},
   "source": [
    "Creating another LSTM model with SGD optimizer and 50 epochs"
   ]
  },
  {
   "cell_type": "code",
   "execution_count": 16,
   "id": "79f9dce5",
   "metadata": {
    "scrolled": true
   },
   "outputs": [
    {
     "name": "stdout",
     "output_type": "stream",
     "text": [
      "Epoch 1/50\n",
      "114/114 [==============================] - 5s 4ms/step - loss: 0.0886\n",
      "Epoch 2/50\n",
      "114/114 [==============================] - 0s 4ms/step - loss: 0.0567\n",
      "Epoch 3/50\n",
      "114/114 [==============================] - 1s 4ms/step - loss: 0.0551\n",
      "Epoch 4/50\n",
      "114/114 [==============================] - 0s 4ms/step - loss: 0.0522\n",
      "Epoch 5/50\n",
      "114/114 [==============================] - 0s 4ms/step - loss: 0.0519\n",
      "Epoch 6/50\n",
      "114/114 [==============================] - 0s 4ms/step - loss: 0.0491\n",
      "Epoch 7/50\n",
      "114/114 [==============================] - 0s 4ms/step - loss: 0.0483\n",
      "Epoch 8/50\n",
      "114/114 [==============================] - 0s 4ms/step - loss: 0.0462\n",
      "Epoch 9/50\n",
      "114/114 [==============================] - 0s 4ms/step - loss: 0.0453\n",
      "Epoch 10/50\n",
      "114/114 [==============================] - 0s 4ms/step - loss: 0.0436\n",
      "Epoch 11/50\n",
      "114/114 [==============================] - 0s 4ms/step - loss: 0.0415\n",
      "Epoch 12/50\n",
      "114/114 [==============================] - 0s 4ms/step - loss: 0.0408\n",
      "Epoch 13/50\n",
      "114/114 [==============================] - 0s 4ms/step - loss: 0.0390\n",
      "Epoch 14/50\n",
      "114/114 [==============================] - 0s 4ms/step - loss: 0.0381\n",
      "Epoch 15/50\n",
      "114/114 [==============================] - 0s 4ms/step - loss: 0.0365\n",
      "Epoch 16/50\n",
      "114/114 [==============================] - 0s 4ms/step - loss: 0.0352\n",
      "Epoch 17/50\n",
      "114/114 [==============================] - 0s 4ms/step - loss: 0.0340\n",
      "Epoch 18/50\n",
      "114/114 [==============================] - 0s 4ms/step - loss: 0.0325\n",
      "Epoch 19/50\n",
      "114/114 [==============================] - 0s 4ms/step - loss: 0.0313\n",
      "Epoch 20/50\n",
      "114/114 [==============================] - 0s 4ms/step - loss: 0.0296\n",
      "Epoch 21/50\n",
      "114/114 [==============================] - 0s 4ms/step - loss: 0.0287\n",
      "Epoch 22/50\n",
      "114/114 [==============================] - 0s 4ms/step - loss: 0.0276\n",
      "Epoch 23/50\n",
      "114/114 [==============================] - 1s 5ms/step - loss: 0.0262\n",
      "Epoch 24/50\n",
      "114/114 [==============================] - 1s 6ms/step - loss: 0.0253\n",
      "Epoch 25/50\n",
      "114/114 [==============================] - 1s 5ms/step - loss: 0.0241\n",
      "Epoch 26/50\n",
      "114/114 [==============================] - 1s 5ms/step - loss: 0.0230\n",
      "Epoch 27/50\n",
      "114/114 [==============================] - 1s 6ms/step - loss: 0.0216\n",
      "Epoch 28/50\n",
      "114/114 [==============================] - 1s 5ms/step - loss: 0.0206\n",
      "Epoch 29/50\n",
      "114/114 [==============================] - 1s 5ms/step - loss: 0.0194\n",
      "Epoch 30/50\n",
      "114/114 [==============================] - 1s 5ms/step - loss: 0.0185\n",
      "Epoch 31/50\n",
      "114/114 [==============================] - 1s 5ms/step - loss: 0.0175\n",
      "Epoch 32/50\n",
      "114/114 [==============================] - 1s 5ms/step - loss: 0.0165\n",
      "Epoch 33/50\n",
      "114/114 [==============================] - 1s 5ms/step - loss: 0.0156\n",
      "Epoch 34/50\n",
      "114/114 [==============================] - 1s 5ms/step - loss: 0.0147\n",
      "Epoch 35/50\n",
      "114/114 [==============================] - 1s 5ms/step - loss: 0.0138\n",
      "Epoch 36/50\n",
      "114/114 [==============================] - 1s 4ms/step - loss: 0.0130\n",
      "Epoch 37/50\n",
      "114/114 [==============================] - 0s 4ms/step - loss: 0.0121\n",
      "Epoch 38/50\n",
      "114/114 [==============================] - 0s 4ms/step - loss: 0.0115\n",
      "Epoch 39/50\n",
      "114/114 [==============================] - 0s 4ms/step - loss: 0.0108\n",
      "Epoch 40/50\n",
      "114/114 [==============================] - 0s 4ms/step - loss: 0.0101\n",
      "Epoch 41/50\n",
      "114/114 [==============================] - 1s 4ms/step - loss: 0.0095\n",
      "Epoch 42/50\n",
      "114/114 [==============================] - 0s 4ms/step - loss: 0.0090\n",
      "Epoch 43/50\n",
      "114/114 [==============================] - 0s 4ms/step - loss: 0.0084\n",
      "Epoch 44/50\n",
      "114/114 [==============================] - 0s 4ms/step - loss: 0.0080\n",
      "Epoch 45/50\n",
      "114/114 [==============================] - 1s 5ms/step - loss: 0.0076\n",
      "Epoch 46/50\n",
      "114/114 [==============================] - 1s 4ms/step - loss: 0.0071\n",
      "Epoch 47/50\n",
      "114/114 [==============================] - 0s 4ms/step - loss: 0.0068\n",
      "Epoch 48/50\n",
      "114/114 [==============================] - 1s 5ms/step - loss: 0.0065\n",
      "Epoch 49/50\n",
      "114/114 [==============================] - 0s 4ms/step - loss: 0.0062\n",
      "Epoch 50/50\n",
      "114/114 [==============================] - 0s 4ms/step - loss: 0.0059\n"
     ]
    },
    {
     "data": {
      "text/plain": [
       "<keras.callbacks.History at 0x272b8db7fd0>"
      ]
     },
     "execution_count": 16,
     "metadata": {},
     "output_type": "execute_result"
    }
   ],
   "source": [
    "model_sgd = Sequential()\n",
    "model_sgd.add(LSTM(4, input_shape=(look_back, 1)))\n",
    "model_sgd.add(Dense(1))\n",
    "model_sgd.compile(optimizer='sgd', loss='mean_squared_error')\n",
    "model_sgd.fit(X_train, Y_train, epochs=50, batch_size=1)"
   ]
  },
  {
   "cell_type": "markdown",
   "id": "01664ae1",
   "metadata": {},
   "source": [
    "Evaluating both models on the test data"
   ]
  },
  {
   "cell_type": "code",
   "execution_count": 17,
   "id": "aeba370f",
   "metadata": {},
   "outputs": [],
   "source": [
    "adam_loss = model_adam.evaluate(X_test, Y_test, verbose=0)\n",
    "sgd_loss = model_sgd.evaluate(X_test, Y_test, verbose=0)"
   ]
  },
  {
   "cell_type": "code",
   "execution_count": 19,
   "id": "07bcfacf",
   "metadata": {},
   "outputs": [
    {
     "name": "stdout",
     "output_type": "stream",
     "text": [
      "Adam Optimizer Model Loss: 0.0043\n",
      "SGD Optimizer Model Loss: 0.0072\n"
     ]
    }
   ],
   "source": [
    "print(f'Adam Optimizer Model Loss: {adam_loss:.4f}')\n",
    "print(f'SGD Optimizer Model Loss: {sgd_loss:.4f}')"
   ]
  },
  {
   "cell_type": "code",
   "execution_count": null,
   "id": "e5ddd46e",
   "metadata": {},
   "outputs": [],
   "source": []
  }
 ],
 "metadata": {
  "kernelspec": {
   "display_name": "Python 3 (ipykernel)",
   "language": "python",
   "name": "python3"
  },
  "language_info": {
   "codemirror_mode": {
    "name": "ipython",
    "version": 3
   },
   "file_extension": ".py",
   "mimetype": "text/x-python",
   "name": "python",
   "nbconvert_exporter": "python",
   "pygments_lexer": "ipython3",
   "version": "3.9.13"
  }
 },
 "nbformat": 4,
 "nbformat_minor": 5
}
